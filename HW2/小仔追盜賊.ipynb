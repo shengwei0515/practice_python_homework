{
 "cells": [
  {
   "cell_type": "code",
   "execution_count": 150,
   "metadata": {},
   "outputs": [],
   "source": [
    "# 需求1: 前後去掉空白\n",
    "\n",
    "# 用來清除 string 前面的空白\n",
    "def remote_space_in_line_begin(string_line):\n",
    "    result_sring = \"\"\n",
    "    for index, character in enumerate(string_line): # 用 enumerate 可以同時取得 index 和 character，很方便\n",
    "        if character == ' ':\n",
    "            continue\n",
    "        else:\n",
    "            result_sring = string_line[index::]\n",
    "            break\n",
    "    return result_sring"
   ]
  },
  {
   "cell_type": "code",
   "execution_count": 151,
   "metadata": {},
   "outputs": [
    {
     "data": {
      "text/plain": [
       "'12113  '"
      ]
     },
     "execution_count": 151,
     "metadata": {},
     "output_type": "execute_result"
    }
   ],
   "source": [
    "# 測試一下\n",
    "remote_space_in_line_begin(\"   12113  \")"
   ]
  },
  {
   "cell_type": "code",
   "execution_count": 152,
   "metadata": {},
   "outputs": [],
   "source": [
    "# 接下來對每一行都要進行以下的調整\n",
    "# 前後去掉空白\n",
    "def remove_space(string_line):\n",
    "    # result_string 用來記錄目前處理的結果  \n",
    "    result_sring = \"\"\n",
    "    \n",
    "    # 處理前面的空白\n",
    "    result_string = remote_space_in_line_begin(string_line)\n",
    "            \n",
    "    # 處理後面的空白\n",
    "    # 把 string 反轉過來，再處理一次前面的空白，再反轉回去\n",
    "    result_string = result_string[::-1]\n",
    "    result_string = remote_space_in_line_begin(result_string)\n",
    "    result_string = result_string[::-1]\n",
    "    \n",
    "    return result_string"
   ]
  },
  {
   "cell_type": "code",
   "execution_count": 153,
   "metadata": {},
   "outputs": [
    {
     "data": {
      "text/plain": [
       "'12345'"
      ]
     },
     "execution_count": 153,
     "metadata": {},
     "output_type": "execute_result"
    }
   ],
   "source": [
    "# 測試一下\n",
    "remove_space(\"  12345   \")"
   ]
  },
  {
   "cell_type": "code",
   "execution_count": 154,
   "metadata": {},
   "outputs": [],
   "source": [
    "#  需求2: 若連續多個相同半形標點符號，保留一個就好，並確保標點符號後面只能有一個空白格(只需處理「.」、「;」、「:」、「,」四個半形標點符號)\n",
    "def remove_repeat_symbols(string_line, symbol):\n",
    "    \n",
    "    result_string = \"\"\n",
    "    \"\"\"\n",
    "    這邊想法是這樣：\n",
    "    1. 如果字符不是我要的符號，直接加入 result_string 中\n",
    "    2. 如果字符是我要的符號\n",
    "       2.1 我去看 result_string 是不是空的，如果是就將result_string 加入這個符號\n",
    "       2.2 如果 result_string 是不是空的\n",
    "           2.2.1 去看 result_string 最後面的字元是不是這個符號，如果是的話代表是重複的，我現在的字符就不要加進去\n",
    "    \"\"\"\n",
    "    for index, character in enumerate(string_line):\n",
    "        if character != symbol:\n",
    "            result_string += character\n",
    "        else:\n",
    "            if len(result_string) != 0:    \n",
    "                if result_string[-1] == symbol:\n",
    "                    continue\n",
    "                else:\n",
    "                    result_string += character\n",
    "            else:\n",
    "                result_string += character\n",
    "    # 符號後面塞空白\n",
    "    result_string = result_string.replace(symbol, symbol+' ')\n",
    "    return result_string"
   ]
  },
  {
   "cell_type": "code",
   "execution_count": 155,
   "metadata": {},
   "outputs": [
    {
     "data": {
      "text/plain": [
       "'. 1. 23. '"
      ]
     },
     "execution_count": 155,
     "metadata": {},
     "output_type": "execute_result"
    }
   ],
   "source": [
    "remove_repeat_symbols(\"...1...23...\", \".\")"
   ]
  },
  {
   "cell_type": "code",
   "execution_count": 156,
   "metadata": {},
   "outputs": [],
   "source": [
    "# 若出現“藏身地”一詞關鍵字，則在前後加「\\」符號\n",
    "def mark_hiding_place(string_line):\n",
    "    return string_line.replace(\"藏身地\", \"\\藏身地\\\\\")"
   ]
  },
  {
   "cell_type": "code",
   "execution_count": 157,
   "metadata": {},
   "outputs": [
    {
     "data": {
      "text/plain": [
       "'這是個\\\\藏身地\\\\'"
      ]
     },
     "execution_count": 157,
     "metadata": {},
     "output_type": "execute_result"
    }
   ],
   "source": [
    "mark_hiding_place(\"這是個藏身地\") # 結果裡面會看到兩個是因為他要表示那個字元不是跳脫字符，而是\\這個字元"
   ]
  },
  {
   "cell_type": "code",
   "execution_count": 158,
   "metadata": {},
   "outputs": [
    {
     "name": "stdout",
     "output_type": "stream",
     "text": [
      "    I have a pen...\n",
      "I have a pen. \n",
      "There is a book!!.,.    \n",
      "There is a book!!. , . \n",
      "::::傅鐘是我們藏身地:::::\n",
      ": 傅鐘是我們\\藏身地\\: \n",
      "END\n"
     ]
    }
   ],
   "source": [
    "# 若干行輸入，每行輸入包含一個字串，直到輸入為 END 停止。\n",
    "while True:\n",
    "    input_line = input()\n",
    "    if input_line == \"END\":\n",
    "        break\n",
    "    else:\n",
    "        result_line = remove_space(input_line)\n",
    "        for symbol in ['.', ';', ':', ',']:\n",
    "            result_line = remove_repeat_symbols(result_line, symbol)\n",
    "        result_line = mark_hiding_place(result_line)\n",
    "        print(result_line)"
   ]
  },
  {
   "cell_type": "code",
   "execution_count": null,
   "metadata": {},
   "outputs": [],
   "source": []
  }
 ],
 "metadata": {
  "kernelspec": {
   "display_name": "Python 3",
   "language": "python",
   "name": "python3"
  }
 },
 "nbformat": 4,
 "nbformat_minor": 2
}
