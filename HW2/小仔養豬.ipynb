{
 "cells": [
  {
   "cell_type": "code",
   "execution_count": 1,
   "metadata": {},
   "outputs": [],
   "source": [
    "import math\n",
    "\n",
    "def if_around(i, j, u, v, r):\n",
    "    x_distance = u - i\n",
    "    y_distance = v - j\n",
    "    if math.pow(x_distance, 2) + math.pow(y_distance, 2) <= math.pow(r, 2):\n",
    "        return True\n",
    "    else:\n",
    "        return False"
   ]
  },
  {
   "cell_type": "code",
   "execution_count": 2,
   "metadata": {},
   "outputs": [],
   "source": [
    "def if_too_close(pigs_around, pigs_total, d):\n",
    "    if pigs_around/pigs_total > d/100:\n",
    "        return True\n",
    "    else:\n",
    "        return False"
   ]
  },
  {
   "cell_type": "code",
   "execution_count": 3,
   "metadata": {},
   "outputs": [],
   "source": [
    "def find_mother(matrix_of_pigs):\n",
    "    pig_mothers = []\n",
    "    for x_index, elemet_list in enumerate(matrix_of_pigs):\n",
    "        for y_index, element in enumerate(elemet_list):\n",
    "            if element == 0:\n",
    "                pig_mothers.append((x_index, y_index))\n",
    "    return pig_mothers"
   ]
  },
  {
   "cell_type": "code",
   "execution_count": 4,
   "metadata": {},
   "outputs": [],
   "source": [
    "def total_child_pigs(matrix_of_pigs):\n",
    "    total_pigs = 0\n",
    "    for x_index, elemet_list in enumerate(matrix_of_pigs):\n",
    "        for y_index, element in enumerate(elemet_list):\n",
    "            total_pigs += element\n",
    "    return total_pigs"
   ]
  },
  {
   "cell_type": "code",
   "execution_count": 5,
   "metadata": {},
   "outputs": [],
   "source": [
    "def if_good_temperature(matrix_of_pigs, pig_mothers, r, d):\n",
    "    \n",
    "    total_child_pig = total_child_pigs(matrix_of_pigs)\n",
    "    \n",
    "    is_too_cold = 1 # 1 => 不會太冷, 0=> 太冷\n",
    "    # 對每隻母豬，我都去看他身邊有哪幾隻小豬是在她身邊的\n",
    "    for pig_mother in pig_mothers:\n",
    "        total_child_pigs_around_this_mother = 0\n",
    "        x_index_of_mother = pig_mother[0]\n",
    "        y_index_of_mother = pig_mother[1]\n",
    "        for x_index, elemet_list in enumerate(matrix_of_pigs):\n",
    "            for y_index, element in enumerate(elemet_list):\n",
    "                if if_around(x_index, y_index, x_index_of_mother, y_index_of_mother, r):\n",
    "                    total_child_pigs_around_this_mother += element\n",
    "        if if_too_close(total_child_pigs_around_this_mother, total_child_pig, d):\n",
    "            # 靠太近代表太冷\n",
    "            is_too_cold = 0\n",
    "            return is_too_cold\n",
    "        else:\n",
    "            continue\n",
    "    return is_too_cold"
   ]
  },
  {
   "cell_type": "code",
   "execution_count": 6,
   "metadata": {},
   "outputs": [
    {
     "name": "stdout",
     "output_type": "stream",
     "text": [
      "4 3 1 40\n",
      "2 5 1 4 3\n",
      "0 1 20 5 7\n",
      "2 3 0 10 1\n",
      "3 4 9 2 1\n",
      "2,83\n",
      "0\n"
     ]
    }
   ],
   "source": [
    "if __name__ == \"__main__\":\n",
    "    x, y, r, d = map(int, input().split())\n",
    "    matrix_of_pigs = []\n",
    "    for number_of_line in range(y+1):\n",
    "        matrix_of_pigs.append(list(map(int, input().split())))\n",
    "    pig_mothers = find_mother(matrix_of_pigs)\n",
    "    # 第一行輸出\n",
    "    print(\"{},{}\".format(len(pig_mothers), total_child_pigs(matrix_of_pigs)))\n",
    "    # 第二行輸出\n",
    "    print(if_good_temperature(matrix_of_pigs, pig_mothers, r, d))"
   ]
  },
  {
   "cell_type": "code",
   "execution_count": null,
   "metadata": {},
   "outputs": [],
   "source": []
  }
 ],
 "metadata": {
  "kernelspec": {
   "display_name": "Python 3",
   "language": "python",
   "name": "python3"
  },
  "language_info": {
   "codemirror_mode": {
    "name": "ipython",
    "version": 3
   },
   "file_extension": ".py",
   "mimetype": "text/x-python",
   "name": "python",
   "nbconvert_exporter": "python",
   "pygments_lexer": "ipython3",
   "version": "3.7.1"
  }
 },
 "nbformat": 4,
 "nbformat_minor": 2
}
