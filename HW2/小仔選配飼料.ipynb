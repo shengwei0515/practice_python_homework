{
 "cells": [
  {
   "cell_type": "code",
   "execution_count": 31,
   "metadata": {},
   "outputs": [],
   "source": [
    "def best_feed_collection(X, A, B, a1, b1, m1, a2, b2, m2):\n",
    "    u = 0 # 第一間\n",
    "    v = 0 # 第二間\n",
    "    \n",
    "    # 找出可能的組合\n",
    "    candidates = []  # 可能的組合\n",
    "    while u < X:\n",
    "        v = 0 # 重置 v\n",
    "        while v < X:\n",
    "            # 佳總不能超過 X\n",
    "            if u + v > X:\n",
    "                break\n",
    "            if a1*u + a2*v >= A and b1*u + b2*v >= B:\n",
    "                candidates.append((u, v))\n",
    "            v+=1\n",
    "        u+=1\n",
    "        \n",
    "    # 找出成本最低的組合\n",
    "    best_cost = -1 # 成本不可能是負的\n",
    "    best_candidate = (0, 0)\n",
    "    for candidate in candidates:\n",
    "        u = candidate[0]\n",
    "        v = candidate[1]\n",
    "        cost = u*m1 + v*m2\n",
    "        # 處理第一個的時候\n",
    "        if best_cost == -1:\n",
    "            best_cost = cost\n",
    "            best_candidate = (u, v)\n",
    "            continue\n",
    "        if cost < best_cost:\n",
    "            best_cost = cost\n",
    "            best_candidate = (u, v)\n",
    "        if cost == best_cost:\n",
    "            if u+v > best_candidate[0]+best_candidate[1]:\n",
    "                best_candidate = (u, v)\n",
    "            elif u+v == best_candidate[0]+best_candidate[1]:\n",
    "                if u < best_candidate[0]:\n",
    "                    best_candidate = (u, v)\n",
    "    return best_cost, best_candidate\n",
    "    \n"
   ]
  },
  {
   "cell_type": "code",
   "execution_count": null,
   "metadata": {},
   "outputs": [
    {
     "name": "stdout",
     "output_type": "stream",
     "text": [
      "15 23 27\n"
     ]
    }
   ],
   "source": [
    "X, A, B = map(int, input().split()) \n",
    "a1, b1, m1 = map(int, input().split()) \n",
    "a2, b2, m2 = map(int, input().split()) \n",
    "best_cost, best_candidate = best_feed_collection(X, A, B, a1, b1, m1, a2, b2, m2)\n",
    "print(\"{},{}\".format(best_candidate[0],best_candidate[1]))\n",
    "print(best_cost)"
   ]
  },
  {
   "cell_type": "code",
   "execution_count": null,
   "metadata": {},
   "outputs": [],
   "source": []
  }
 ],
 "metadata": {
  "kernelspec": {
   "display_name": "Python 3",
   "language": "python",
   "name": "python3"
  },
  "language_info": {
   "codemirror_mode": {
    "name": "ipython",
    "version": 3
   },
   "file_extension": ".py",
   "mimetype": "text/x-python",
   "name": "python",
   "nbconvert_exporter": "python",
   "pygments_lexer": "ipython3",
   "version": "3.7.1"
  }
 },
 "nbformat": 4,
 "nbformat_minor": 2
}
