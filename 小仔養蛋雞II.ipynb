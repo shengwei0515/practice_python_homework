{
 "cells": [
  {
   "cell_type": "code",
   "execution_count": 8,
   "metadata": {},
   "outputs": [],
   "source": [
    "import math"
   ]
  },
  {
   "cell_type": "code",
   "execution_count": 15,
   "metadata": {},
   "outputs": [],
   "source": [
    "def all_eggs(i, x0, T, L, D, change_in_which_day):\n",
    "    total_eggs = 0\n",
    "    egg_rate_today = x0/100\n",
    "    minimum_egg_rate = L/100\n",
    "    \n",
    "    # 如果是 0 => 不換\n",
    "    if change_in_which_day == 0:\n",
    "        # 跟第一題一樣\n",
    "        for day_t in range(1, T+1):\n",
    "            # 不能小於最小產率\n",
    "            predect_egg_rate = egg_rate_today - (1+0.5*day_t)/100\n",
    "            if predect_egg_rate < minimum_egg_rate:\n",
    "                egg_rate_today = minimum_egg_rate\n",
    "            else:\n",
    "                egg_rate_today = egg_rate_today - (1+0.5*day_t)/100\n",
    "            total_eggs += math.ceil(i*egg_rate_today)\n",
    "    else:\n",
    "        for day_t in range(1, T+1):\n",
    "            predect_egg_rate = egg_rate_today - (1+0.5*day_t)/100\n",
    "            # 原本的計算公式\n",
    "            if predect_egg_rate < minimum_egg_rate:\n",
    "                egg_rate_today = minimum_egg_rate\n",
    "            else:\n",
    "                egg_rate_today = egg_rate_today - (1+0.5*day_t)/100\n",
    "            # 處理換羽毛產能 =0\n",
    "            if day_t in range(change_in_which_day, change_in_which_day + D):\n",
    "                egg_rate_today = 0\n",
    "            # 換玩羽毛之後重置 X0 = 90\n",
    "            if day_t == (change_in_which_day+D):\n",
    "                egg_rate_today = 0.9\n",
    "            total_eggs += math.ceil(i*egg_rate_today)\n",
    "    return total_eggs"
   ]
  },
  {
   "cell_type": "code",
   "execution_count": 19,
   "metadata": {},
   "outputs": [],
   "source": [
    "def best_change_day(i, x0, T, L, D):\n",
    "    predect_eggs = []\n",
    "    for change_in_which_day in range(0,T+1):\n",
    "        predect_eggs.append(all_eggs(i, x0, T, L, D, change_in_which_day))\n",
    "    print(predect_eggs)\n",
    "    \n",
    "    best_eggs_total = 0\n",
    "    best_change_day = 0\n",
    "    # 找出最好的組合\n",
    "    for change_in_which_day, predect_eggs in enumerate(predect_eggs):\n",
    "        if predect_eggs > best_eggs_total:\n",
    "            best_eggs_total = predect_eggs\n",
    "            best_change_day = change_in_which_day\n",
    "    # 最好的組合是0的話要依照題目需求轉成 -1\n",
    "    if best_change_day == 0:\n",
    "        best_change_day = -1\n",
    "    return best_change_day, best_eggs_total"
   ]
  },
  {
   "cell_type": "code",
   "execution_count": 21,
   "metadata": {},
   "outputs": [
    {
     "name": "stdout",
     "output_type": "stream",
     "text": [
      "100 99 2 40 1\n",
      "[194, 90, 98]\n",
      "(-1, 194)\n"
     ]
    }
   ],
   "source": [
    "i, x0, T, L, D = map(int, input().split())\n",
    "best_change_day, best_eggs_total = best_change_day(i, x0, T, L, D)\n",
    "print(\"{}, {}\".format(best_eggs_total))"
   ]
  },
  {
   "cell_type": "code",
   "execution_count": null,
   "metadata": {},
   "outputs": [],
   "source": []
  },
  {
   "cell_type": "code",
   "execution_count": null,
   "metadata": {},
   "outputs": [],
   "source": []
  }
 ],
 "metadata": {
  "kernelspec": {
   "display_name": "Python 3",
   "language": "python",
   "name": "python3"
  },
  "language_info": {
   "codemirror_mode": {
    "name": "ipython",
    "version": 3
   },
   "file_extension": ".py",
   "mimetype": "text/x-python",
   "name": "python",
   "nbconvert_exporter": "python",
   "pygments_lexer": "ipython3",
   "version": "3.7.1"
  }
 },
 "nbformat": 4,
 "nbformat_minor": 2
}
