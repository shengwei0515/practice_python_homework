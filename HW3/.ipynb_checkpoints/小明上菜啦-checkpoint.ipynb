{
 "cells": [
  {
   "cell_type": "code",
   "execution_count": 1,
   "id": "reserved-wagon",
   "metadata": {},
   "outputs": [],
   "source": [
    "def ingrefients_info_to_dict(ingredients_info):\n",
    "    info_dict = {}\n",
    "    info_list = ingredients_info.split(' ')\n",
    "    # 去除掉多餘的空格\n",
    "    info_list = list(filter(lambda element: element != \"\", info_list))\n",
    "    index = 0\n",
    "    while index < len(info_list):\n",
    "        info_dict[info_list[index]] = int(info_list[index+1])\n",
    "        index +=2\n",
    "    return info_dict"
   ]
  },
  {
   "cell_type": "code",
   "execution_count": 2,
   "id": "electronic-screw",
   "metadata": {},
   "outputs": [
    {
     "data": {
      "text/plain": [
       "{'武藏': 2, '小次郎': 1, '喵喵': 2}"
      ]
     },
     "execution_count": 2,
     "metadata": {},
     "output_type": "execute_result"
    }
   ],
   "source": [
    "ingrefients_info_to_dict(\"武藏 2 小次郎 1 喵喵 2\")"
   ]
  },
  {
   "cell_type": "code",
   "execution_count": 3,
   "id": "duplicate-template",
   "metadata": {},
   "outputs": [],
   "source": [
    "def food_info_to_food_name_and_dict(food_info):\n",
    "    info_dict = {}\n",
    "    info_list = food_info.split(' ')\n",
    "    info_list = list(filter(lambda element: element != \"\", info_list))\n",
    "    # 取出第一個 element    \n",
    "    food_name = info_list.pop(0)\n",
    "    # 剩下的 element 組成需要的食材與數量的 dict\n",
    "    index = 0\n",
    "    while index < len(info_list):\n",
    "        info_dict[info_list[index]] = int(info_list[index+1])\n",
    "        index +=2\n",
    "    return food_name, info_dict"
   ]
  },
  {
   "cell_type": "code",
   "execution_count": 4,
   "id": "gross-desktop",
   "metadata": {},
   "outputs": [
    {
     "data": {
      "text/plain": [
       "('火箭隊', {'武藏': 1, '小次郎': 1, '喵喵': 1})"
      ]
     },
     "execution_count": 4,
     "metadata": {},
     "output_type": "execute_result"
    }
   ],
   "source": [
    "food_info_to_food_name_and_dict(\"火箭隊 武藏 1 小次郎 1 喵喵 1\")"
   ]
  },
  {
   "cell_type": "code",
   "execution_count": 5,
   "id": "fewer-sustainability",
   "metadata": {},
   "outputs": [],
   "source": [
    "def make_order(warehouse_dict, recipe_dict, order):\n",
    "    for ingredient, number in recipe_dict[order].items():\n",
    "        # 食材不存在於倉庫，直接回傳 Flase\n",
    "        if ingredient not in warehouse_dict.keys():\n",
    "            return False\n",
    "        \n",
    "        # 食材存在倉庫，判斷數量是否充足，若有任一食材不夠，則回傳 False\n",
    "        if warehouse_dict[ingredient] < number:\n",
    "            return False\n",
    "    # 確定可以製作，消耗食材製作並回傳 True\n",
    "    for ingredient, number in recipe_dict[order].items():\n",
    "        warehouse_dict[ingredient] = warehouse_dict[ingredient] - number\n",
    "\n",
    "    return True"
   ]
  },
  {
   "cell_type": "code",
   "execution_count": 6,
   "id": "circular-madrid",
   "metadata": {},
   "outputs": [
    {
     "name": "stdout",
     "output_type": "stream",
     "text": [
      "食材種類: ３\n",
      "食材與數量: 武藏 2 小次郎 1 喵喵 2\n",
      "菜單種類: 2\n",
      "菜單與食材: 火箭隊 武藏 1 小次郎 1 喵喵 1\n",
      "菜單與食材: 小智一行人 小智 1 小霞 1 小剛 1\n",
      "訂單數量: 3\n",
      "訂單: 火箭隊\n",
      "False\n",
      "訂單: 小智一行人\n",
      "False\n",
      "訂單: 火箭隊\n",
      "False\n"
     ]
    }
   ],
   "source": [
    "if __name__ == \"__main__\":\n",
    "    # 處理食材數量，轉換成 {食材:數量} 的 dict\n",
    "    number_of_ingredients_kind = input(\"食材種類: \")\n",
    "    ingredients_info = input(\"食材與數量: \")\n",
    "    ingredient_warehouse = ingrefients_info_to_dict(ingredients_info)\n",
    "    \n",
    "    # 處理食譜，轉換成 {餐點名:{食材:數量}} 的 dict\n",
    "    recipt = {}\n",
    "    number_of_food_kind = input(\"菜單種類: \")\n",
    "    for i in range(int(number_of_food_kind)):\n",
    "        food_info = input(\"菜單與食材: \")\n",
    "        food_name, food_dict = food_info_to_food_name_and_dict(food_info)\n",
    "        recipt[food_name] = food_dict\n",
    "    \n",
    "    # 開始處理訂單 \n",
    "    number_of_order = input(\"訂單數量: \")\n",
    "    for i in range(int(number_of_order)):\n",
    "        order_info = input(\"訂單: \")\n",
    "        print(make_order(ingredient_warehouse, recipt, order_info))"
   ]
  },
  {
   "cell_type": "code",
   "execution_count": null,
   "id": "superb-intake",
   "metadata": {},
   "outputs": [],
   "source": []
  }
 ],
 "metadata": {
  "kernelspec": {
   "display_name": "Python 3",
   "language": "python",
   "name": "python3"
  },
  "language_info": {
   "codemirror_mode": {
    "name": "ipython",
    "version": 3
   },
   "file_extension": ".py",
   "mimetype": "text/x-python",
   "name": "python",
   "nbconvert_exporter": "python",
   "pygments_lexer": "ipython3",
   "version": "3.9.2"
  }
 },
 "nbformat": 4,
 "nbformat_minor": 5
}
