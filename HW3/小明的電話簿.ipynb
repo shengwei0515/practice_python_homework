{
 "cells": [
  {
   "cell_type": "code",
   "execution_count": 1,
   "id": "greek-mailman",
   "metadata": {},
   "outputs": [],
   "source": [
    "def search_phone_book(phone_book, serch_string):\n",
    "    for name, phone_number in phone_book.items():\n",
    "        if serch_string.isdigit():\n",
    "            if phone_number == serch_string:\n",
    "                return name\n",
    "        else:\n",
    "            if name == serch_string:\n",
    "                return phone_number\n",
    "    return \"\""
   ]
  },
  {
   "cell_type": "code",
   "execution_count": 2,
   "id": "simple-conditions",
   "metadata": {},
   "outputs": [
    {
     "name": "stdout",
     "output_type": "stream",
     "text": [
      "s MICHAEL\n",
      "Cannot find MICHAEL\n",
      "a JAMES 8942750136\n",
      "a HANNAH 3658492071\n",
      "s 8942750136\n",
      "JAMES\n",
      "s 8942750136\n",
      "JAMES\n",
      "s 5239847016\n",
      "Cannot find 5239847016\n",
      "a LAUREN 4857190632\n",
      "s BETHANY\n",
      "Cannot find BETHANY\n",
      "end\n"
     ]
    }
   ],
   "source": [
    "if __name__ == \"__main__\":\n",
    "    phone_book = {}\n",
    "    while True:\n",
    "        input_string = input()\n",
    "        if input_string == \"end\":\n",
    "            break\n",
    "        \n",
    "        input_string_list = input_string.split(' ')\n",
    "        if input_string_list[0] == 's':\n",
    "            search_result = search_phone_book(phone_book, input_string_list[1])\n",
    "            if search_result != \"\":\n",
    "                print(search_result)\n",
    "            else:\n",
    "                print(\"Cannot find {}\".format(input_string_list[1]))\n",
    "        elif input_string_list[0] == 'a':\n",
    "            phone_book[input_string_list[1]] = input_string_list[2]"
   ]
  },
  {
   "cell_type": "code",
   "execution_count": null,
   "id": "narrative-theology",
   "metadata": {},
   "outputs": [],
   "source": []
  }
 ],
 "metadata": {
  "kernelspec": {
   "display_name": "Python 3",
   "language": "python",
   "name": "python3"
  },
  "language_info": {
   "codemirror_mode": {
    "name": "ipython",
    "version": 3
   },
   "file_extension": ".py",
   "mimetype": "text/x-python",
   "name": "python",
   "nbconvert_exporter": "python",
   "pygments_lexer": "ipython3",
   "version": "3.9.2"
  }
 },
 "nbformat": 4,
 "nbformat_minor": 5
}
