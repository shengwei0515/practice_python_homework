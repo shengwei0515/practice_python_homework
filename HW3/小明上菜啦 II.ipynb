{
 "cells": [
  {
   "cell_type": "code",
   "execution_count": 9,
   "id": "strong-combat",
   "metadata": {},
   "outputs": [
    {
     "name": "stdout",
     "output_type": "stream",
     "text": [
      "abc\n",
      "Create abc\n",
      "cba\n",
      "cba is abc, abc already exists\n"
     ]
    }
   ],
   "source": [
    "if __name__ == \"__main__\":\n",
    "    dish_dict = {}\n",
    "    try:\n",
    "      while True:\n",
    "          new_dish = input()\n",
    "          sorted_new_dish_name = ''.join(sorted(new_dish)).lower()\n",
    "          if  sorted_new_dish_name not in dish_dict:\n",
    "              dish_dict[sorted_new_dish_name] = new_dish\n",
    "              print(\"Create {}\".format(new_dish))\n",
    "          else:\n",
    "              old_dish = dish_dict[sorted_new_dish_name]\n",
    "              if old_dish != new_dish:\n",
    "                  print(\"{} is {}, {} already exists\".format(new_dish, old_dish, old_dish))\n",
    "              else:\n",
    "                  print(\"{} already exists\".format(new_dish))\n",
    "    except:\n",
    "        pass"
   ]
  },
  {
   "cell_type": "code",
   "execution_count": null,
   "id": "healthy-respondent",
   "metadata": {},
   "outputs": [],
   "source": []
  }
 ],
 "metadata": {
  "kernelspec": {
   "display_name": "Python 3",
   "language": "python",
   "name": "python3"
  },
  "language_info": {
   "codemirror_mode": {
    "name": "ipython",
    "version": 3
   },
   "file_extension": ".py",
   "mimetype": "text/x-python",
   "name": "python",
   "nbconvert_exporter": "python",
   "pygments_lexer": "ipython3",
   "version": "3.9.2"
  }
 },
 "nbformat": 4,
 "nbformat_minor": 5
}
