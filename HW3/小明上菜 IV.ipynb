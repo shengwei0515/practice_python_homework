{
 "cells": [
  {
   "cell_type": "code",
   "execution_count": 1,
   "id": "arranged-encyclopedia",
   "metadata": {},
   "outputs": [
    {
     "name": "stdout",
     "output_type": "stream",
     "text": [
      "\n"
     ]
    }
   ],
   "source": [
    "\"\"\"\n",
    "不太確定對不對ww\n",
    "\n",
    "想法\n",
    "1. 先刪除絕對不可能的組合\n",
    "    => 邊長總和不是4的倍數\n",
    "    => 任意木頭大於邊長\n",
    "2. 剩下來的情況透過遞迴處理\n",
    "\n",
    "\n",
    "遞迴想法\n",
    "target_len => 要找到加總是某個長度的組合 => 一開始長度的目標就是正方形的邊長(square_len) \n",
    "每次從 remain_list 內挑出一個數字 num ，剩下來的東西就是 copy_list\n",
    "    把 target_len 減掉 num:\n",
    "        如果減完大於0 代表還需要再一根木頭，透過遞迴的方式往下找 (此時的 target 就是 target_len - num)\n",
    "        如果減完剛好等於 0 代表有找到一個組合\n",
    "            => 剩下來的木頭繼續排排看，重置 target = square_len\n",
    "            => 總共需要找到 4(target_num) 個這樣的組合，如果剛好找到 4 個且剛好把木頭用完，代表這個數列能夠組成正方形\n",
    "    \n",
    "\"\"\"\n",
    "print()"
   ]
  },
  {
   "cell_type": "code",
   "execution_count": 22,
   "id": "successful-cheat",
   "metadata": {},
   "outputs": [],
   "source": [
    "def recursive_check_squaare(target_len, remain_list, square_len, target_num=4, solution=0):\n",
    "    if target_num == 0 and len(remain_list) == 0:\n",
    "        solution += 1\n",
    "        \n",
    "    # solution < 1 就不要再做了，會浪費很多時間\n",
    "    if target_num !=0 and solution < 1:\n",
    "        for num in remain_list:\n",
    "            copy_list = list(remain_list)\n",
    "            copy_list.remove(num)\n",
    "            if target_len - num > 0:\n",
    "                solution = recursive_check_squaare(target_len - num, copy_list, square_len, target_num, solution)\n",
    "            if target_len - num == 0:\n",
    "                solution = recursive_check_squaare(square_len, copy_list, square_len, target_num-1, solution)\n",
    "    return solution"
   ]
  },
  {
   "cell_type": "code",
   "execution_count": 23,
   "id": "higher-battle",
   "metadata": {},
   "outputs": [
    {
     "name": "stdout",
     "output_type": "stream",
     "text": [
      "1\n"
     ]
    }
   ],
   "source": [
    "print(recursive_check_squaare(4, [4,3,2,1,1,4,1], 4))"
   ]
  },
  {
   "cell_type": "code",
   "execution_count": 24,
   "id": "limiting-quality",
   "metadata": {},
   "outputs": [
    {
     "name": "stdout",
     "output_type": "stream",
     "text": [
      "1\n"
     ]
    }
   ],
   "source": [
    "print(recursive_check_squaare(2, [1,2,2,2,1], 2))"
   ]
  },
  {
   "cell_type": "code",
   "execution_count": 25,
   "id": "emerging-register",
   "metadata": {},
   "outputs": [
    {
     "name": "stdout",
     "output_type": "stream",
     "text": [
      "1\n"
     ]
    }
   ],
   "source": [
    "print(recursive_check_squaare(3, [1,1,1,1,1,1,1,1,1,1,1,1], 3))"
   ]
  },
  {
   "cell_type": "code",
   "execution_count": 26,
   "id": "sweet-northern",
   "metadata": {},
   "outputs": [
    {
     "name": "stdout",
     "output_type": "stream",
     "text": [
      "0\n"
     ]
    }
   ],
   "source": [
    "print(recursive_check_squaare(3, [3,3,3,3,3], 3))"
   ]
  },
  {
   "cell_type": "code",
   "execution_count": 33,
   "id": "rotary-feature",
   "metadata": {},
   "outputs": [
    {
     "name": "stdout",
     "output_type": "stream",
     "text": [
      "3,4,5,5,1,2,4\n",
      "False\n"
     ]
    }
   ],
   "source": [
    "if __name__ == \"__main__\":\n",
    "    wood_len_list = [int(x) for x in input().split(',')]\n",
    "\n",
    "    # 加總不是 4 的倍數 => 不可能\n",
    "    if sum(wood_len_list) % 4 != 0:\n",
    "        print(False)\n",
    "    else:\n",
    "        if_longer = False\n",
    "        # 任意木頭比邊長還長 \n",
    "        square_len = sum(wood_len_list) / 4\n",
    "        for wood_len in wood_len_list:\n",
    "            if wood_len > square_len:\n",
    "                if_longer = True\n",
    "                print(False)\n",
    "                break\n",
    "        if not if_longer:\n",
    "            # 剩下短短的木頭用 recursive 判斷能不能組成想要的正方形\n",
    "            if recursive_check_squaare(square_len, wood_len_list, square_len) > 0:\n",
    "                print(True)\n",
    "            else:\n",
    "                print(False)"
   ]
  },
  {
   "cell_type": "code",
   "execution_count": null,
   "id": "patient-pioneer",
   "metadata": {},
   "outputs": [],
   "source": []
  }
 ],
 "metadata": {
  "kernelspec": {
   "display_name": "Python 3",
   "language": "python",
   "name": "python3"
  },
  "language_info": {
   "codemirror_mode": {
    "name": "ipython",
    "version": 3
   },
   "file_extension": ".py",
   "mimetype": "text/x-python",
   "name": "python",
   "nbconvert_exporter": "python",
   "pygments_lexer": "ipython3",
   "version": "3.9.2"
  }
 },
 "nbformat": 4,
 "nbformat_minor": 5
}
