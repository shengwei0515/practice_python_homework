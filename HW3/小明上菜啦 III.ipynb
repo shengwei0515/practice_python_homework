{
 "cells": [
  {
   "cell_type": "code",
   "execution_count": 67,
   "id": "serious-purse",
   "metadata": {},
   "outputs": [
    {
     "name": "stdout",
     "output_type": "stream",
     "text": [
      "\n"
     ]
    }
   ],
   "source": [
    "\"\"\"\n",
    "想法是這樣\n",
    "從 list 中挑出一個詞，看看會不會剛好等於記憶中菜名的最前面幾個字\n",
    "    if 可以等於前幾個字\n",
    "        => 把這幾個字從記憶中菜名消除（從前面開始消） => 繼續重複這個過程 \n",
    "                => 如果最後可以剛好把整個菜名消掉就是 true\n",
    "                => 如果不能就是 flase\n",
    "    else => flase\n",
    "\"\"\"\n",
    "print()"
   ]
  },
  {
   "cell_type": "code",
   "execution_count": 4,
   "id": "breathing-mountain",
   "metadata": {},
   "outputs": [],
   "source": [
    "\"\"\"\n",
    "先處理用來檢查有沒有解的遞迴\n",
    "\"\"\"\n",
    "def recursive_check_reorganizae(remain_name_in_memory, phrase_list_in_recipt, solution_find = 0):\n",
    "    print(remain_name_in_memory)\n",
    "    if len(remain_name_in_memory) == 0:\n",
    "        solution_find += 1\n",
    "\n",
    "    for phrase in phrase_list_in_recipt:\n",
    "        if remain_name_in_memory[:len(phrase)] == phrase:\n",
    "            solution_find = recursive_check_reorganizae(remain_name_in_memory[len(phrase):], phrase_list_in_recipt, solution_find)\n",
    "    return solution_find"
   ]
  },
  {
   "cell_type": "code",
   "execution_count": 5,
   "id": "fiscal-board",
   "metadata": {},
   "outputs": [
    {
     "name": "stdout",
     "output_type": "stream",
     "text": [
      "123456\n",
      "456\n",
      "0\n"
     ]
    }
   ],
   "source": [
    "solutions = recursive_check_reorganizae(\"123456\", [\"123\"])\n",
    "print(solutions)"
   ]
  },
  {
   "cell_type": "code",
   "execution_count": 6,
   "id": "abroad-edgar",
   "metadata": {},
   "outputs": [
    {
     "name": "stdout",
     "output_type": "stream",
     "text": [
      "123456\n",
      "456\n",
      "\n",
      "1\n"
     ]
    }
   ],
   "source": [
    "solutions = recursive_check_reorganizae(\"123456\", [\"123\", \"456\"])\n",
    "print(solutions)"
   ]
  },
  {
   "cell_type": "code",
   "execution_count": 85,
   "id": "stuck-device",
   "metadata": {},
   "outputs": [],
   "source": [
    "def if_can_reorganizae(dish_name_in_memory, phrase_list_in_recipt):\n",
    "    solutions = recursive_check_reorganizae(dish_name_in_memory, phrase_list_in_recipt)\n",
    "    if solutions > 0 :\n",
    "        return True\n",
    "    else:\n",
    "        return False\n",
    "    \n",
    "                "
   ]
  },
  {
   "cell_type": "code",
   "execution_count": 88,
   "id": "abandoned-museum",
   "metadata": {},
   "outputs": [
    {
     "name": "stdout",
     "output_type": "stream",
     "text": [
      "記憶中的菜名: 紙包雞包紙包雞\n",
      "菜單上的字: 紙包雞,雞包紙,紙包雞包紙\n",
      "False\n"
     ]
    }
   ],
   "source": [
    "if __name__ == \"__main__\":\n",
    "    # 處理輸入，都變成全小寫比較好處理\n",
    "    dish_name_in_memory = input(\"記憶中的菜名: \").lower()\n",
    "    dish_name_in_recipt = input(\"菜單上的字: \").lower()\n",
    "    \n",
    "    # 先將菜單上的字分成 list\n",
    "    phrase_list_in_recipt = dish_name_in_recipt.split(',')\n",
    "    \n",
    "    print(if_can_reorganizae(dish_name_in_memory, phrase_list_in_recipt))"
   ]
  },
  {
   "cell_type": "code",
   "execution_count": 89,
   "id": "living-feedback",
   "metadata": {},
   "outputs": [
    {
     "name": "stdout",
     "output_type": "stream",
     "text": [
      "記憶中的菜名: applePenapple\n",
      "菜單上的字: apple,pen\n",
      "True\n"
     ]
    }
   ],
   "source": [
    "if __name__ == \"__main__\":\n",
    "    # 處理輸入，都變成全小寫比較好處理\n",
    "    dish_name_in_memory = input(\"記憶中的菜名: \").lower()\n",
    "    dish_name_in_recipt = input(\"菜單上的字: \").lower()\n",
    "    \n",
    "    # 先將菜單上的字分成 list\n",
    "    phrase_list_in_recipt = dish_name_in_recipt.split(',')\n",
    "    print(if_can_reorganizae(dish_name_in_memory, phrase_list_in_recipt))"
   ]
  },
  {
   "cell_type": "code",
   "execution_count": null,
   "id": "engaged-special",
   "metadata": {},
   "outputs": [],
   "source": []
  }
 ],
 "metadata": {
  "kernelspec": {
   "display_name": "Python 3",
   "language": "python",
   "name": "python3"
  },
  "language_info": {
   "codemirror_mode": {
    "name": "ipython",
    "version": 3
   },
   "file_extension": ".py",
   "mimetype": "text/x-python",
   "name": "python",
   "nbconvert_exporter": "python",
   "pygments_lexer": "ipython3",
   "version": "3.9.2"
  }
 },
 "nbformat": 4,
 "nbformat_minor": 5
}
